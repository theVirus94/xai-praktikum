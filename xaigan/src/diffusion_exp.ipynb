{
 "cells": [
  {
   "cell_type": "code",
   "execution_count": null,
   "metadata": {},
   "outputs": [],
   "source": [
    "import torch\n",
    "from torch import nn\n",
    "from torch.utils.data import DataLoader\n",
    "from torch.utils.data.dataset import random_split\n",
    "from torchtext.datasets import AG_NEWS\n",
    "from torchtext.data.utils import get_tokenizer\n",
    "from torchtext.vocab import Vocab\n",
    "\n",
    "from collections import Counter\n",
    "\n",
    "from IPython.core.display import HTML, display\n",
    "from models.generators import DiffusionModel\n",
    "from models.discriminators import DiscriminatorNetCIFAR10\n",
    "from torchvision import transforms\n",
    "import torch.nn.functional as F\n",
    "from captum.attr import visualization as viz\n",
    "from captum.attr import Lime, LimeBase\n",
    "from captum._utils.models.linear_model import SkLearnLinearRegression, SkLearnLasso\n",
    "import os\n",
    "import json"
   ]
  },
  {
   "cell_type": "code",
   "execution_count": null,
   "metadata": {},
   "outputs": [],
   "source": [
    "class model():\n",
    "    def __init__(self,pretrained_path):\n",
    "        \n",
    "        self.encoder = DiffusionModel()\n",
    "        #self.decoder = DiscriminatorNetCIFAR10()\n",
    "        self.decoder = DiscriminatorNetCIFAR10()\n",
    "        #discriminator = discriminator.load_state_dict(torch.load(pretrained_path, map_location=lambda storage, loc: storage)['model_state_dict'])\n",
    "        self.decoder.load_state_dict(torch.load(pretrained_path, map_location=lambda storage, loc: storage)['model_state_dict'])\n",
    "        self.transform = transforms.Compose([\n",
    "            transforms.ToTensor(), transforms.Normalize((0.5, 0.5, 0.5), (0.5, 0.5, 0.5)),transforms.Resize((32,32))])\n",
    "    \n",
    "    def forward(self, x):\n",
    "        label = self.encoder.forward(x)\n",
    "        \n",
    "        label = self.transform(label)\n",
    "        label = label.unsqueeze(0)\n",
    "        #print(x.shape)\n",
    "        \n",
    "        label = self.decoder(label)\n",
    "        return label\n",
    "    \n",
    "    def encode_part(self,input):\n",
    "        return self.encoder.forward(input)"
   ]
  },
  {
   "cell_type": "code",
   "execution_count": null,
   "metadata": {},
   "outputs": [],
   "source": [
    "pretrained_path = r\"D:\\Praktikum\\xai-diffusion\\xai-praktikum\\xaigan\\src\\results\\cifar-10\\CIFAR10_only_SaliencyTrain\\discriminator.pt\"\n",
    "model = model(pretrained_path)\n",
    "text_inputs = [\"A glass of beer is sitting next to a vase full of flowers.\"]\n",
    "label = model.forward(text_inputs)\n",
    "print(label)"
   ]
  },
  {
   "cell_type": "code",
   "execution_count": null,
   "metadata": {},
   "outputs": [],
   "source": [
    "from lime import lime_text\n",
    "from lime.lime_text import LimeTextExplainer\n",
    "\n",
    "class_names = [\"false\",\"real\"]\n",
    "text = \"A glass of beer is sitting next to a vase full of flowers.\"\n",
    "\n",
    "explainer = LimeTextExplainer(class_names=class_names)\n",
    "exp = explainer.explain_instance(text, model.forward, num_features=3, labels=[0,1])\n",
    "#print('Document id: %d' % idx)\n",
    "#print(text)\n",
    "#print('Predicted class =', class_names[model.forward(text).reshape(1,-1)[0,0]])\n",
    "#print('True class: %s' % true_label)\n",
    "exp.as_list()\n",
    "exp.show_in_notebook(text=text, labels=(1,))"
   ]
  }
 ],
 "metadata": {
  "kernelspec": {
   "display_name": "mlgs",
   "language": "python",
   "name": "python3"
  },
  "language_info": {
   "name": "python",
   "version": "3.7.13"
  },
  "orig_nbformat": 4,
  "vscode": {
   "interpreter": {
    "hash": "7f3e3bf3a8af45309bdde20eb4819410d35a3d2cba30d2dce8afdd1bf5179a4d"
   }
  }
 },
 "nbformat": 4,
 "nbformat_minor": 2
}
