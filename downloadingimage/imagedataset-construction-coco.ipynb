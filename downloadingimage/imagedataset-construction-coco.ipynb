{
 "cells": [
  {
   "cell_type": "code",
   "execution_count": 3,
   "metadata": {},
   "outputs": [
    {
     "name": "stdout",
     "output_type": "stream",
     "text": [
      "loading annotations into memory...\n",
      "Done (t=0.42s)\n",
      "creating index...\n",
      "index created!\n",
      "5000\n",
      "[1]\n",
      "2693\n"
     ]
    },
    {
     "data": {
      "text/plain": [
       "'\\nloading annotations into memory...\\nDone (t=1.45s)\\ncreating index...\\nindex created!\\n5000  # 验证集样本总数\\n[1]  # 人这个类的类别id\\n2693  # 在验证集中，包含人这个类的图像有2693张\\n'"
      ]
     },
     "execution_count": 3,
     "metadata": {},
     "output_type": "execute_result"
    }
   ],
   "source": [
    "from pycocotools.coco import COCO\n",
    "\n",
    "val_info = r\"D:\\Praktikum\\datasets\\coco\\annotations_trainval2017\\annotations\\instances_val2017.json\"\n",
    "val_image = r\"D:\\Praktikum\\datasets\\coco\\val2017\\val2017\"\n",
    "\n",
    "coco = COCO(val_info)  # 导入验证集\n",
    "all_ids = coco.imgs.keys()\n",
    "print(len(all_ids))\n",
    "person_id = coco.getCatIds(catNms=['person'])\n",
    "print(person_id)\n",
    "person_imgs_id = coco.getImgIds(catIds=person_id)\n",
    "print(len(person_imgs_id))\n",
    "###\n",
    "'''\n",
    "loading annotations into memory...\n",
    "Done (t=1.45s)\n",
    "creating index...\n",
    "index created!\n",
    "5000  # 验证集样本总数\n",
    "[1]  # 人这个类的类别id\n",
    "2693  # 在验证集中，包含人这个类的图像有2693张\n",
    "'''\n",
    "###\n",
    "\n"
   ]
  },
  {
   "cell_type": "code",
   "execution_count": 9,
   "metadata": {},
   "outputs": [
    {
     "name": "stdout",
     "output_type": "stream",
     "text": [
      "loading annotations into memory...\n",
      "Done (t=0.87s)\n",
      "creating index...\n",
      "index created!\n"
     ]
    },
    {
     "ename": "KeyboardInterrupt",
     "evalue": "",
     "output_type": "error",
     "traceback": [
      "\u001b[1;31m---------------------------------------------------------------------------\u001b[0m",
      "\u001b[1;31mKeyboardInterrupt\u001b[0m                         Traceback (most recent call last)",
      "\u001b[1;32m~\\AppData\\Local\\Temp\\ipykernel_9792\\745414758.py\u001b[0m in \u001b[0;36m<module>\u001b[1;34m\u001b[0m\n\u001b[0;32m    100\u001b[0m         \"\"\"\n\u001b[0;32m    101\u001b[0m         \u001b[0mcv2\u001b[0m\u001b[1;33m.\u001b[0m\u001b[0mimshow\u001b[0m\u001b[1;33m(\u001b[0m\u001b[1;34m'img'\u001b[0m\u001b[1;33m,\u001b[0m \u001b[0mimg\u001b[0m\u001b[1;33m)\u001b[0m\u001b[1;33m\u001b[0m\u001b[1;33m\u001b[0m\u001b[0m\n\u001b[1;32m--> 102\u001b[1;33m         \u001b[0mcv2\u001b[0m\u001b[1;33m.\u001b[0m\u001b[0mwaitKey\u001b[0m\u001b[1;33m(\u001b[0m\u001b[1;36m500\u001b[0m\u001b[1;33m)\u001b[0m\u001b[1;33m\u001b[0m\u001b[1;33m\u001b[0m\u001b[0m\n\u001b[0m\u001b[0;32m    103\u001b[0m \u001b[1;33m\u001b[0m\u001b[0m\n",
      "\u001b[1;31mKeyboardInterrupt\u001b[0m: "
     ]
    },
    {
     "ename": "",
     "evalue": "",
     "output_type": "error",
     "traceback": [
      "\u001b[1;31mThe Kernel crashed while executing code in the the current cell or a previous cell. Please review the code in the cell(s) to identify a possible cause of the failure. Click <a href='https://aka.ms/vscodeJupyterKernelCrash'>here</a> for more info. View Jupyter <a href='command:jupyter.viewOutput'>log</a> for further details."
     ]
    }
   ],
   "source": [
    "from pycocotools.coco import COCO\n",
    "import os\n",
    "import os.path as osp\n",
    "import sys\n",
    "import torch\n",
    "import torch.utils.data as data\n",
    "import torchvision.transforms as transforms\n",
    "import cv2\n",
    "import numpy as np\n",
    "from pycocotools.coco import COCO\n",
    "from torch.utils.data import DataLoader\n",
    "import numpy as np\n",
    "\n",
    "val_info = r\"D:\\Praktikum\\datasets\\coco\\annotations_trainval2017\\annotations\\instances_val2017.json\"\n",
    "val_image = r\"D:\\Praktikum\\datasets\\coco\\val2017\\val2017\"\n",
    "COCO_CLASSES = ('person', 'bicycle', 'car', 'motorcycle', 'airplane', 'bus',\n",
    "                'train', 'truck', 'boat', 'traffic light', 'fire hydrant',\n",
    "                'stop sign', 'parking meter', 'bench', 'bird', 'cat', 'dog',\n",
    "                'horse', 'sheep', 'cow', 'elephant', 'bear', 'zebra', 'giraffe',\n",
    "                'backpack', 'umbrella', 'handbag', 'tie', 'suitcase', 'frisbee',\n",
    "                'skis', 'snowboard', 'sports ball', 'kite', 'baseball bat',\n",
    "                'baseball glove', 'skateboard', 'surfboard', 'tennis racket',\n",
    "                'bottle', 'wine glass', 'cup', 'fork', 'knife', 'spoon', 'bowl',\n",
    "                'banana', 'apple', 'sandwich', 'orange', 'broccoli', 'carrot',\n",
    "                'hot dog', 'pizza', 'donut', 'cake', 'chair', 'couch',*\n",
    "                'potted plant', 'bed', 'dining table', 'toilet', 'tv', 'laptop',\n",
    "                'mouse', 'remote', 'keyboard', 'cell phone', 'microwave', 'oven',\n",
    "                'toaster', 'sink', 'refrigerator', 'book', 'clock', 'vase',\n",
    "                'scissors', 'teddy bear', 'hair drier', 'toothbrush')\n",
    "\n",
    "\n",
    "class COCODetection(data.Dataset):\n",
    "    def __init__(self, image_path, info_file, has_gt=True):\n",
    "        self.root = image_path\n",
    "        self.coco = COCO(info_file)\n",
    "        self.ids = list(self.coco.imgToAnns.keys())  # 标签数\n",
    "\n",
    "        if len(self.ids) == 0 or not has_gt:  # 如果没有标签或者不需要GT，则直接使用image\n",
    "            self.ids = list(self.coco.imgs.keys())\n",
    "        \n",
    "        \n",
    "\n",
    "        self.has_gt = has_gt\n",
    "\n",
    "    def __len__(self):\n",
    "        return len(self.ids)\n",
    "\n",
    "    def __getitem__(self, index):\n",
    "        im, gt, masks, h, w, num_crowds = self.pull_item(index)\n",
    "        return im, (gt, masks, num_crowds)\n",
    "\n",
    "    def pull_item(self, index):\n",
    "        img_id = self.ids[index]\n",
    "        #print(img_id)\n",
    "        if self.has_gt:\n",
    "            ann_ids = self.coco.getAnnIds(imgIds=img_id)\n",
    "            target = self.coco.loadAnns(ann_ids)\n",
    "            #print(target[0])\n",
    "        else:\n",
    "            target = []\n",
    "        crowd = [x for x in target if ('iscrowd' in x and x['iscrowd'])]\n",
    "        #print(crowd)\n",
    "        target = [x for x in target if not ('iscrowd' in x and x['iscrowd'])]\n",
    "        #print(target)\n",
    "        #print('````````````````````````````````````````````````````````````````````')\n",
    "        num_crowds = len(crowd)\n",
    "\n",
    "        # This is so we ensure that all crowd annotations are at the end of the array\n",
    "        target += crowd\n",
    "        #print(self.coco.loadImgs(img_id))\n",
    "        file_name = self.coco.loadImgs(img_id)[0]['file_name']\n",
    "        path = osp.join(self.root, file_name)\n",
    "        img = cv2.imread(path)\n",
    "        height, width, _ = img.shape\n",
    "        #if len(target) > 0: \n",
    "        masks = [self.coco.annToMask(obj).reshape(-1) for obj in target]\n",
    "        #print(mask)\n",
    "        masks = np.vstack(masks)\n",
    "        masks = masks.reshape(-1, height, width)\n",
    "        \n",
    "        return torch.from_numpy(img).permute(1, 0, 2), target, masks, height, width, num_crowds\n",
    "\n",
    "\n",
    "if __name__=='__main__':\n",
    "    dataset = COCODetection(val_image, val_info)\n",
    "    loader = DataLoader(dataset)\n",
    "    for img, label in loader:\n",
    "        #print(img.shape)\n",
    "        img = np.uint8(img.squeeze().numpy().transpose(1, 0, 2))\n",
    "        \n",
    "        gt, masks, num_crowds = label\n",
    "        masks = masks.squeeze(0)\n",
    "        \"\"\"\n",
    "        for m in range(masks.size(0)):\n",
    "            mask = masks[m].numpy()\n",
    "            color = np.random.randint(0, 255)\n",
    "            channel = np.random.randint(0, 3)\n",
    "            y, x = np.where(mask == 1)\n",
    "            img[y, x, channel] = color\n",
    "        \"\"\"\n",
    "        cv2.imshow('img', img)\n",
    "        cv2.waitKey(500)\n",
    "\n"
   ]
  },
  {
   "cell_type": "code",
   "execution_count": 14,
   "metadata": {},
   "outputs": [
    {
     "name": "stdout",
     "output_type": "stream",
     "text": [
      "['1', '3']\n"
     ]
    }
   ],
   "source": [
    "a = {'1':2,'3':4,'5':1}\n",
    "b = [x for x in a if not ('5' in x and a['5'])]\n",
    "print(b)\n"
   ]
  }
 ],
 "metadata": {
  "kernelspec": {
   "display_name": "Python 3.7.13 ('VQ-Diffusion')",
   "language": "python",
   "name": "python3"
  },
  "language_info": {
   "codemirror_mode": {
    "name": "ipython",
    "version": 3
   },
   "file_extension": ".py",
   "mimetype": "text/x-python",
   "name": "python",
   "nbconvert_exporter": "python",
   "pygments_lexer": "ipython3",
   "version": "3.7.13"
  },
  "orig_nbformat": 4,
  "vscode": {
   "interpreter": {
    "hash": "a4df39f10d67cc29445af6247fb7d3b561c21e75f2c867c23c29a37d9187a214"
   }
  }
 },
 "nbformat": 4,
 "nbformat_minor": 2
}
